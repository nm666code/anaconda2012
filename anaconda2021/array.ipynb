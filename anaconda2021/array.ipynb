{
 "cells": [
  {
   "cell_type": "code",
   "execution_count": 1,
   "id": "96146d9b",
   "metadata": {},
   "outputs": [],
   "source": [
    "import numpy as np"
   ]
  },
  {
   "cell_type": "code",
   "execution_count": 2,
   "id": "bea80488",
   "metadata": {},
   "outputs": [],
   "source": [
    "myarr = np.array([[1,2,3],[4,5,6]])"
   ]
  },
  {
   "cell_type": "code",
   "execution_count": 3,
   "id": "a9e22f9a",
   "metadata": {},
   "outputs": [
    {
     "name": "stdout",
     "output_type": "stream",
     "text": [
      "[[1 2 3]\n",
      " [4 5 6]]\n"
     ]
    }
   ],
   "source": [
    "print(myarr)"
   ]
  },
  {
   "cell_type": "code",
   "execution_count": 4,
   "id": "4fe12987",
   "metadata": {},
   "outputs": [
    {
     "name": "stdout",
     "output_type": "stream",
     "text": [
      "dimension 2\n"
     ]
    }
   ],
   "source": [
    "print('dimension',myarr.ndim)"
   ]
  },
  {
   "cell_type": "code",
   "execution_count": null,
   "id": "34746928",
   "metadata": {},
   "outputs": [],
   "source": [
    "print('shape',myarr.shape)"
   ]
  },
  {
   "cell_type": "code",
   "execution_count": null,
   "id": "d21ae5b2",
   "metadata": {},
   "outputs": [],
   "source": [
    "print('size',myarr.shape)"
   ]
  },
  {
   "cell_type": "code",
   "execution_count": null,
   "id": "7990e7e9",
   "metadata": {},
   "outputs": [],
   "source": []
  },
  {
   "cell_type": "code",
   "execution_count": null,
   "id": "69a53c40",
   "metadata": {},
   "outputs": [],
   "source": []
  },
  {
   "cell_type": "code",
   "execution_count": null,
   "id": "0ed6294c",
   "metadata": {},
   "outputs": [],
   "source": []
  }
 ],
 "metadata": {
  "kernelspec": {
   "display_name": "Python 3",
   "language": "python",
   "name": "python3"
  },
  "language_info": {
   "codemirror_mode": {
    "name": "ipython",
    "version": 3
   },
   "file_extension": ".py",
   "mimetype": "text/x-python",
   "name": "python",
   "nbconvert_exporter": "python",
   "pygments_lexer": "ipython3",
   "version": "3.8.8"
  }
 },
 "nbformat": 4,
 "nbformat_minor": 5
}
