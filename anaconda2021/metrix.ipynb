{
 "cells": [
  {
   "cell_type": "code",
   "execution_count": 1,
   "id": "f48fd24e",
   "metadata": {},
   "outputs": [],
   "source": [
    "import numpy as np"
   ]
  },
  {
   "cell_type": "code",
   "execution_count": 2,
   "id": "5dfb1b19",
   "metadata": {},
   "outputs": [],
   "source": [
    "a = np.zeros((2,5))"
   ]
  },
  {
   "cell_type": "code",
   "execution_count": 3,
   "id": "cc715484",
   "metadata": {},
   "outputs": [
    {
     "name": "stdout",
     "output_type": "stream",
     "text": [
      "[[0. 0. 0. 0. 0.]\n",
      " [0. 0. 0. 0. 0.]]\n"
     ]
    }
   ],
   "source": [
    "print(a)"
   ]
  },
  {
   "cell_type": "code",
   "execution_count": 4,
   "id": "6d5d1804",
   "metadata": {},
   "outputs": [],
   "source": [
    "d = np.random.random((2,6))"
   ]
  },
  {
   "cell_type": "code",
   "execution_count": 5,
   "id": "cd45ce3a",
   "metadata": {},
   "outputs": [
    {
     "name": "stdout",
     "output_type": "stream",
     "text": [
      "[[0.15568632 0.82092561 0.4149415  0.8167392  0.4449316  0.58337022]\n",
      " [0.29459732 0.75699624 0.06515255 0.40416428 0.10666381 0.7975653 ]]\n"
     ]
    }
   ],
   "source": [
    "print(d)"
   ]
  },
  {
   "cell_type": "code",
   "execution_count": 6,
   "id": "00fe53f6",
   "metadata": {},
   "outputs": [],
   "source": [
    "b = np.ones((2,3))"
   ]
  },
  {
   "cell_type": "code",
   "execution_count": 7,
   "id": "0ede59d6",
   "metadata": {},
   "outputs": [
    {
     "name": "stdout",
     "output_type": "stream",
     "text": [
      "[[1. 1. 1.]\n",
      " [1. 1. 1.]]\n"
     ]
    }
   ],
   "source": [
    "print(b)"
   ]
  },
  {
   "cell_type": "code",
   "execution_count": 9,
   "id": "90840030",
   "metadata": {},
   "outputs": [],
   "source": [
    "c = np.arange(1,6)"
   ]
  },
  {
   "cell_type": "code",
   "execution_count": 10,
   "id": "1ad8edb8",
   "metadata": {},
   "outputs": [
    {
     "data": {
      "text/plain": [
       "array([1, 2, 3, 4, 5])"
      ]
     },
     "execution_count": 10,
     "metadata": {},
     "output_type": "execute_result"
    }
   ],
   "source": [
    "c"
   ]
  },
  {
   "cell_type": "code",
   "execution_count": 11,
   "id": "093eec58",
   "metadata": {},
   "outputs": [
    {
     "name": "stdout",
     "output_type": "stream",
     "text": [
      "0.8209256092547391\n"
     ]
    }
   ],
   "source": [
    "print(np.max(d))"
   ]
  },
  {
   "cell_type": "code",
   "execution_count": 12,
   "id": "9a28cd78",
   "metadata": {},
   "outputs": [
    {
     "name": "stdout",
     "output_type": "stream",
     "text": [
      "0.06515254747112287\n"
     ]
    }
   ],
   "source": [
    "print(np.min(d))"
   ]
  },
  {
   "cell_type": "code",
   "execution_count": null,
   "id": "2f69e8d5",
   "metadata": {},
   "outputs": [],
   "source": []
  },
  {
   "cell_type": "code",
   "execution_count": null,
   "id": "c32c8bc4",
   "metadata": {},
   "outputs": [],
   "source": []
  }
 ],
 "metadata": {
  "kernelspec": {
   "display_name": "Python 3",
   "language": "python",
   "name": "python3"
  },
  "language_info": {
   "codemirror_mode": {
    "name": "ipython",
    "version": 3
   },
   "file_extension": ".py",
   "mimetype": "text/x-python",
   "name": "python",
   "nbconvert_exporter": "python",
   "pygments_lexer": "ipython3",
   "version": "3.8.8"
  }
 },
 "nbformat": 4,
 "nbformat_minor": 5
}
