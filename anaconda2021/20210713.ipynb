{
 "cells": [
  {
   "cell_type": "code",
   "execution_count": 2,
   "id": "462394a8",
   "metadata": {},
   "outputs": [
    {
     "name": "stdout",
     "output_type": "stream",
     "text": [
      "Python version: 3.8.8 (default, Apr 13 2021, 15:08:03) [MSC v.1916 64 bit (AMD64)]\n",
      "numpy version: 1.18.5\n",
      "matplotlib version: 3.3.4\n",
      "seaborn version: 0.11.1\n",
      "pandas version: 1.2.4\n",
      "scikit-learn version: 0.24.1\n",
      "tensorflow version: 2.3.0\n",
      "keras version: 2.4.0\n"
     ]
    },
    {
     "name": "stderr",
     "output_type": "stream",
     "text": [
      "Using TensorFlow backend.\n"
     ]
    }
   ],
   "source": [
    "import sys\n",
    "print(\"Python version: {}\". format(sys.version))\n",
    "\n",
    "import numpy as np \n",
    "print(\"numpy version: {}\". format(np.__version__))\n",
    "\n",
    "import matplotlib \n",
    "print(\"matplotlib version: {}\". format(matplotlib.__version__))\n",
    "\n",
    "import seaborn as sn \n",
    "print(\"seaborn version: {}\". format(sn.__version__)) \n",
    "\n",
    "import pandas as pd \n",
    "print(\"pandas version: {}\". format(pd.__version__))\n",
    "\n",
    "import sklearn \n",
    "print(\"scikit-learn version: {}\". format(sklearn.__version__))\n",
    "\n",
    "import tensorflow as tf\n",
    "print(\"tensorflow version: {}\".format(tf.__version__))\n",
    "\n",
    "import keras\n",
    "print(\"keras version: {}\".format(keras.__version__))"
   ]
  },
  {
   "cell_type": "code",
   "execution_count": null,
   "id": "a5aaf0cd",
   "metadata": {},
   "outputs": [],
   "source": []
  }
 ],
 "metadata": {
  "kernelspec": {
   "display_name": "Python 3",
   "language": "python",
   "name": "python3"
  },
  "language_info": {
   "codemirror_mode": {
    "name": "ipython",
    "version": 3
   },
   "file_extension": ".py",
   "mimetype": "text/x-python",
   "name": "python",
   "nbconvert_exporter": "python",
   "pygments_lexer": "ipython3",
   "version": "3.8.8"
  }
 },
 "nbformat": 4,
 "nbformat_minor": 5
}
